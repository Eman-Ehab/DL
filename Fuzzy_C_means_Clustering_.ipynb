{
  "nbformat": 4,
  "nbformat_minor": 0,
  "metadata": {
    "colab": {
      "name": "Fuzzy C means Clustering .ipynb",
      "provenance": []
    },
    "kernelspec": {
      "display_name": "Python 3",
      "language": "python",
      "name": "python3"
    },
    "language_info": {
      "codemirror_mode": {
        "name": "ipython",
        "version": 3
      },
      "file_extension": ".py",
      "mimetype": "text/x-python",
      "name": "python",
      "nbconvert_exporter": "python",
      "pygments_lexer": "ipython3",
      "version": "3.8.5"
    },
    "accelerator": "GPU"
  },
  "cells": [
    {
      "cell_type": "code",
      "metadata": {
        "colab": {
          "base_uri": "https://localhost:8080/"
        },
        "id": "uJcZzBzn6jeH",
        "outputId": "8c2dd86b-4cce-4fd8-e647-a18be697639b"
      },
      "source": [
        "# # to be able to read and add files to your google drive\n",
        "from google.colab import drive\n",
        "drive.mount('/content/drive', force_remount=True)"
      ],
      "execution_count": null,
      "outputs": [
        {
          "output_type": "stream",
          "text": [
            "Mounted at /content/drive\n"
          ],
          "name": "stdout"
        }
      ]
    },
    {
      "cell_type": "markdown",
      "metadata": {
        "id": "MycSfmmm_2oA"
      },
      "source": [
        "# <center><font color=blue>Fuzzy C means Clustering </font>\n",
        "\n",
        "---\n",
        "\n"
      ]
    },
    {
      "cell_type": "markdown",
      "metadata": {
        "id": "2mJROw4A_2oQ"
      },
      "source": [
        "<font size=4>Use the data provided in the file “clustering_assignmentData.csv” where we know that there are three clusters from the labels (K = 3). Apply Fuzzy C-means algorithm on the data provied where each row in the file corresponds to one data point. <br> <br>\n",
        "\n",
        "Important Notes:  <br>One important aspect of fuzzy c means that changes the results significantly is the initialization. So you should run the fuzzy c-means algorithm with the given initialization below above 100 times. The final output of the clustering is the result that gives the minimum  J ( the objective function in lec 6 slide 13).\n",
        "One possible startegy for intialization cluster centers is to select the furthest points from each other. \n",
        "it's required to try clustering with different q (the fuzziness Index and visualize the results)\n",
        "</font>\n"
      ]
    },
    {
      "cell_type": "markdown",
      "metadata": {
        "id": "vGNpDJBW_2oh"
      },
      "source": [
        "# <center><font color=blue>Solution </font>"
      ]
    },
    {
      "cell_type": "markdown",
      "metadata": {
        "id": "yvkVXuq2_2om"
      },
      "source": [
        "<font color=blue size=4>1-Needed Packages"
      ]
    },
    {
      "cell_type": "code",
      "metadata": {
        "collapsed": true,
        "id": "1wdlgPeH_2or"
      },
      "source": [
        "import numpy as np\n",
        "import matplotlib.pylab as plt\n",
        "import math\n",
        "import pandas as pd\n",
        "from numpy.random import seed\n",
        "import sys\n",
        "ep = sys.float_info.epsilon"
      ],
      "execution_count": null,
      "outputs": []
    },
    {
      "cell_type": "code",
      "metadata": {
        "id": "zgbS6yaK8qiJ"
      },
      "source": [
        "                  "
      ],
      "execution_count": null,
      "outputs": []
    },
    {
      "cell_type": "markdown",
      "metadata": {
        "id": "oMdf0CDc_2o9"
      },
      "source": [
        "<font color=blue size=4>2-Load Data"
      ]
    },
    {
      "cell_type": "code",
      "metadata": {
        "collapsed": true,
        "id": "kWJ3PyGq_2pD"
      },
      "source": [
        "def Random_Select(data):\n",
        "    \"\"\"\n",
        "    This Function should implement step 1 in slide 6, Lec 6\n",
        "    Input: Dataset\n",
        "    Output: 3-means\n",
        "    \"\"\"\n",
        "    \n",
        "    #1. Choose First Center randomly \n",
        "    m1=data[np.random.randint(len(data))-1,:]\n",
        "    dist=(np.sum((data-m1)**2,axis=1))**0.5\n",
        "    #2. select the second one \n",
        "    m2=data[np.argmax(dist),:]\n",
        "    #3. select the third one \n",
        "    dist[np.argmax(dist)]=0\n",
        "    m3=data[np.argmax(dist),:]\n",
        "   \n",
        "    \n",
        "    \n",
        "    \n",
        "    return m1,m2,m3 "
      ],
      "execution_count": null,
      "outputs": []
    },
    {
      "cell_type": "code",
      "metadata": {
        "id": "maRsetRdO0l5"
      },
      "source": [
        "x = np.array([[1, 2, 3], [4, 5, 6]], np.int32)\n"
      ],
      "execution_count": null,
      "outputs": []
    },
    {
      "cell_type": "code",
      "metadata": {
        "collapsed": true,
        "id": "2Vw4K62M58gX"
      },
      "source": [
        "def Membership(data,m1,m2,m3, q):\n",
        "    \"\"\"\n",
        "    This function should implement step 2 in slide 15, Lec 6\n",
        "    Possible values for rnk will be any value between [0,1] \n",
        "    Input: Dataset, 3-means, memership matrix, and the fuzziness Index\n",
        "    Return: New membership matrix with shape (len(data), 3)\n",
        "    ** hint: the distace between the cluster mean point and itself is zero,\n",
        "        it will result NANs and INFs in the rnk equation, \n",
        "        you can add epsilon to the distaces in you rnk computaions\n",
        "    \"\"\"\n",
        "    rnk = np.zeros((len(data),3))\n",
        "    rnk_final = np.zeros((len(data),3))\n",
        "    fuzziness = 1 / (q-1)\n",
        "    ep = .0001\n",
        "    for i in range(len(data)):\n",
        "        constant = 0\n",
        "        dist1=np.sqrt(np.sum((data[i,:]-m1)**2))\n",
        "        dist2=np.sqrt(np.sum((data[i,:]-m2)**2))\n",
        "        dist3=np.sqrt(np.sum((data[i,:]-m3)**2))\n",
        "        \n",
        "        if dist1 == 0 :\n",
        "            dist1 += ep\n",
        "        elif dist2 == 0:\n",
        "            dist2 += ep\n",
        "        elif dist3 == 0:\n",
        "            dist3 += ep\n",
        "            \n",
        "        constant += np.power(1/dist1, fuzziness)\n",
        "        constant += np.power(1/dist2, fuzziness)\n",
        "        constant += np.power(1/dist3, fuzziness)\n",
        "\n",
        "        w1 = np.power((1 / dist1), fuzziness) / constant\n",
        "        w2 = np.power((1 / dist2), fuzziness) / constant\n",
        "        w3 = np.power((1 / dist3), fuzziness) / constant\n",
        "        \n",
        "        rnk[i][0] = w1\n",
        "        rnk[i][1] = w2\n",
        "        rnk[i][2] = w3\n",
        "    assert rnk.shape == (len(data), 3)\n",
        "\n",
        "    return rnk"
      ],
      "execution_count": null,
      "outputs": []
    },
    {
      "cell_type": "code",
      "metadata": {
        "id": "BBgNC_JjNeI9"
      },
      "source": [
        "def Membership(data,m1,m2,m3, q):\n",
        "    \"\"\"\n",
        "    This function should implement step 2 in slide 15, Lec 6\n",
        "    Possible values for rnk will be any value between [0,1] \n",
        "    Input: Dataset, 3-means, memership matrix, and the fuzziness Index\n",
        "    Return: New membership matrix with shape (len(data), 3)\n",
        "    ** hint: the distace between the cluster mean point and itself is zero,\n",
        "        it will result NANs and INFs in the rnk equation, \n",
        "        you can add epsilon to the distaces in you rnk computaions\n",
        "    \"\"\"\n",
        "    rnk = np.zeros((len(data),3))\n",
        "    rnk_final = np.zeros((len(data),3))\n",
        "    fuzziness = 1 / (q-1)\n",
        "    ep = .0001\n",
        "    for i in range(len(data)):\n",
        "        constant = 0\n",
        "        dist1=np.sqrt(np.sum((data[i,:]-m1)**2))\n",
        "        dist2=np.sqrt(np.sum((data[i,:]-m2)**2))\n",
        "        dist3=np.sqrt(np.sum((data[i,:]-m3)**2))\n",
        "        \n",
        "        if dist1 == 0 :\n",
        "            dist1 += ep\n",
        "        elif dist2 == 0:\n",
        "            dist2 += ep\n",
        "        elif dist3 == 0:\n",
        "            dist3 += ep\n",
        "            \n",
        "        constant += np.power(1/dist1, fuzziness)\n",
        "        constant += np.power(1/dist2, fuzziness)\n",
        "        constant += np.power(1/dist3, fuzziness)\n",
        "\n",
        "        w1 = np.power((1 / dist1), fuzziness) / constant\n",
        "        w2 = np.power((1 / dist2), fuzziness) / constant\n",
        "        w3 = np.power((1 / dist3), fuzziness) / constant\n",
        "        \n",
        "        rnk[i][0] = w1\n",
        "        rnk[i][1] = w2\n",
        "        rnk[i][2] = w3\n",
        "    assert rnk.shape == (len(data), 3)\n",
        "\n",
        "    return rnk"
      ],
      "execution_count": null,
      "outputs": []
    },
    {
      "cell_type": "code",
      "metadata": {
        "collapsed": true,
        "id": "Z_0-OLgO_2pf"
      },
      "source": [
        "def Update_Means(data,rnk,q):\n",
        "    \"\"\"\n",
        "    This function should implement step 3 in slide 15, Lec 6\n",
        "    \n",
        "    Input: Dataset, memership vector, and the fuzzines index\n",
        "    Return: updated 3-means\n",
        "    \"\"\"\n",
        "    m1 = np.dot(np.power(rnk[:, 0].T, q), data) / np.sum(np.power(rnk[:, 0], q))\n",
        "    m2 = np.dot(np.power(rnk[:, 1].T, q), data) / np.sum(np.power(rnk[:, 2], q))\n",
        "    m3 = np.dot(np.power(rnk[:, 2].T, q), data) / np.sum(np.power(rnk[:, 2], q))\n",
        "    \n",
        "    \n",
        "    \n",
        "    return m1,m2,m3\n"
      ],
      "execution_count": null,
      "outputs": []
    },
    {
      "cell_type": "code",
      "metadata": {
        "id": "tKXE9IdMk2Ff"
      },
      "source": [
        "def Objective_Function(data,rnk,m1,m2,m3, q):\n",
        "  d1 = np.power(rnk[:, 0], q) * np.sqrt((data-m1)**2).T\n",
        "  d2 = np.power(rnk[:, 1], q) * np.sqrt((data-m2)**2).T\n",
        "  d3 = np.power(rnk[:, 2], q) * np.sqrt((data-m3)**2).T\n",
        "\n",
        "  Avgdist = np.sum(d1 + d1 + d1)\n",
        "\n",
        "  return Avgdist\n"
      ],
      "execution_count": null,
      "outputs": []
    },
    {
      "cell_type": "code",
      "metadata": {
        "id": "QQolV8bsNT-N"
      },
      "source": [
        "def StoppingCriteria(m1_b,m2_b,m3_b,m1,m2,m3):\n",
        "    \"\"\"\n",
        "    This function should Test Convergence\n",
        "    \n",
        "    Input:  3-means before updating and after it.\n",
        "    Output: return True or  return False\n",
        "    \"\"\"\n",
        "    m1_b,m2_b,m3_b = np.round(m1_b, 5), np.round(m2_b, 5), np.round(m3_b, 5)\n",
        "    \n",
        "    if (np.array_equal(m1,m1_b))  and (np.array_equal(m2,m2_b)) and (np.array_equal(m3,m3_b)):\n",
        "        return True\n",
        "    else:\n",
        "        return False\n",
        "    \n",
        "    \n",
        "\n",
        "        "
      ],
      "execution_count": null,
      "outputs": []
    },
    {
      "cell_type": "code",
      "metadata": {
        "collapsed": true,
        "id": "-Qp_8zSq58gc"
      },
      "source": [
        "\"\"\"def Stopping_Criteria(m1_b,m2_b,m3_b,m1,m2,m3):\n",
        "    \"\"\"\n",
        "    This function should Test Convergence\n",
        "    \n",
        "    Input:  3-means before updating and after it.\n",
        "    Return: return True or  return False\n",
        "    ** hint: unlike this step in the k means algorithm,\n",
        "            you need to compute the differnce between the old and new means,\n",
        "            and comapre the difference to a very small threshold, \n",
        "            or your can compare after rounding the means to 4 of 5 decimal places.\n",
        "\n",
        "            \n",
        "    \"\"\"\n",
        "    d1 = np.sum(m1_b - m1)\n",
        "    d2 = np.sum(m2_b - m2)\n",
        "    d3 = np.sum(m3_b - m3)\n",
        "    if (d1 < (.0001 * len(m1)) ) and (d2 < (.0001 * len(m2)) ) and (d3 < (.0001 * len(m3)) ):\n",
        "      return True\n",
        "    else: \n",
        "      return False\n",
        "    \n",
        "    \n",
        "\n",
        "    \n",
        "    \n",
        "    \n",
        "\"\"\""
      ],
      "execution_count": null,
      "outputs": []
    },
    {
      "cell_type": "code",
      "metadata": {
        "collapsed": true,
        "id": "P3bNJ2Mx_2qI"
      },
      "source": [
        "#________________________Main Code Statrs here___________________________________\n",
        "def myFCM(data, q):\n",
        "        assert q > 1\n",
        "        m1f,m2f,m3f=np.zeros((2,100)),np.zeros((2,100)),np.zeros((2,100)) # 3 - Means \n",
        "\n",
        "        Avgdist=np.zeros((100,))\n",
        "        counter=0\n",
        "\n",
        "        while(counter <100):\n",
        "                if (counter == 25):\n",
        "                  continue\n",
        "\n",
        "                print(\"counter: \" + str(counter))\n",
        "            \n",
        "                # --------------------Intialization Step 1------------------------------#\n",
        "                seed(counter)\n",
        "                m1,m2,m3 = Random_Select(data)\n",
        "\n",
        "                rnk = np.zeros(len(data)) # Membership Vector\n",
        "\n",
        "                m1_b = m1\n",
        "                m2_b = m2\n",
        "                m3_b = m3\n",
        "                cc = 0\n",
        "                while(True):\n",
        "                    #---------------Step 2 compute rnk-----------------------------------------#\n",
        "\n",
        "                    rnk = Membership(data,m1,m2,m3, q)\n",
        "\n",
        "                    assert all(np.round(np.sum(rnk, axis = 1), 2) == np.ones(len(rnk)))\n",
        "\n",
        "                    #---------------Step 3 update means-----------------------------------------#\n",
        "\n",
        "                    m1,m2,m3 = Update_Means(data,rnk, q)\n",
        "\n",
        "                    #---------------Step 4 Test Convergence -----------------------------------------#\n",
        "\n",
        "                    if Stopping_Criteria(m1_b,m2_b,m3_b,m1,m2,m3):\n",
        "                         m1f[:,counter],m2f[:,counter],m3f[:,counter] = m1,m2,m3\n",
        "\n",
        "                         Avgdist[counter] = Objective_Function(data,rnk,m1,m2,m3, q)\n",
        "                         break\n",
        "\n",
        "\n",
        "                    m1_b = m1\n",
        "                    m2_b = m2\n",
        "                    m3_b = m3\n",
        "\n",
        "                counter += 1     \n",
        "\n",
        "        idx = np.argmin(Avgdist)\n",
        "        m1_ = m1f[:,idx]\n",
        "        m2_ = m2f[:,idx]\n",
        "        m3_ = m3f[:,idx]\n",
        "        rnk_=np.argmax(Membership(data,m1_,m2_,m3_, q), axis = 1)\n",
        "        return rnk_, m1_, m2_, m3_"
      ],
      "execution_count": null,
      "outputs": []
    },
    {
      "cell_type": "code",
      "metadata": {
        "colab": {
          "base_uri": "https://localhost:8080/"
        },
        "id": "_gT7NiYMsWgb",
        "outputId": "447dd9da-c6bd-48c7-9a18-779260cc281b"
      },
      "source": [
        "ls"
      ],
      "execution_count": null,
      "outputs": [
        {
          "output_type": "stream",
          "text": [
            "\u001b[0m\u001b[01;34mdrive\u001b[0m/  \u001b[01;34msample_data\u001b[0m/\n"
          ],
          "name": "stdout"
        }
      ]
    },
    {
      "cell_type": "code",
      "metadata": {
        "collapsed": true,
        "id": "FYejj4NovThN"
      },
      "source": [
        "# Load Data\n",
        "df = pd.read_csv('/content/drive/MyDrive/NileUniversity/Master/ML/Fuzzy_C_means_Assignment/clustering_assignmentData.csv')\n",
        "data = df[['X1', 'X2']].values\n",
        "y = df['y'].values"
      ],
      "execution_count": null,
      "outputs": []
    },
    {
      "cell_type": "code",
      "metadata": {
        "id": "0b7Y_M-N58gg",
        "colab": {
          "base_uri": "https://localhost:8080/",
          "height": 282
        },
        "outputId": "3e8f4930-5565-4c65-b964-0455e383c620"
      },
      "source": [
        "plt.scatter(data[:, 0],data[:, 1], color = list(map(lambda x: {0:'r', 1: 'g', 2: 'y'}.get(x), y)))"
      ],
      "execution_count": null,
      "outputs": [
        {
          "output_type": "execute_result",
          "data": {
            "text/plain": [
              "<matplotlib.collections.PathCollection at 0x7f2222ea41d0>"
            ]
          },
          "metadata": {
            "tags": []
          },
          "execution_count": 39
        },
        {
          "output_type": "display_data",
          "data": {
            "image/png": "[encoded data removed]",
            "text/plain": [
              "<Figure size 432x288 with 1 Axes>"
            ]
          },
          "metadata": {
            "tags": [],
            "needs_background": "light"
          }
        }
      ]
    },
    {
      "cell_type": "markdown",
      "metadata": {
        "id": "k0Mlm3GZ_2qU"
      },
      "source": [
        "# Plotting "
      ]
    },
    {
      "cell_type": "code",
      "metadata": {
        "colab": {
          "base_uri": "https://localhost:8080/",
          "height": 1000
        },
        "id": "5Ew2lDTa_2qZ",
        "outputId": "22741153-ce33-499b-91ec-f34a77fbf091"
      },
      "source": [
        "# Plotting the Final Centroids and data. \n",
        "q  =2\n",
        "rnk_ , m1_, m2_, m3_= myFCM(data, q)\n",
        "plt.scatter(data[:, 0],data[:, 1], color = list(map(lambda x: {0:'r', 1: 'g', 2: 'y'}.get(x), rnk_)))\n",
        "plt.scatter([m1_[0], m2_[0],m3_[0]],[m1_[1], m2_[1], m3_[1]], marker = 'D', c = 'black')\n"
      ],
      "execution_count": null,
      "outputs": [
        {
          "output_type": "stream",
          "text": [
            "counter: 0\n",
            "counter: 1\n",
            "counter: 2\n",
            "counter: 3\n",
            "counter: 4\n",
            "counter: 5\n",
            "counter: 6\n",
            "counter: 7\n",
            "counter: 8\n",
            "counter: 9\n",
            "counter: 10\n",
            "counter: 11\n",
            "counter: 12\n",
            "counter: 13\n",
            "counter: 14\n",
            "counter: 15\n",
            "counter: 16\n",
            "counter: 17\n",
            "counter: 18\n",
            "counter: 19\n",
            "counter: 20\n",
            "counter: 21\n",
            "counter: 22\n",
            "counter: 23\n",
            "counter: 24\n",
            "counter: 25\n",
            "counter: 26\n",
            "counter: 27\n",
            "counter: 28\n",
            "counter: 29\n",
            "counter: 30\n",
            "counter: 31\n",
            "counter: 32\n",
            "counter: 33\n",
            "counter: 34\n",
            "counter: 35\n",
            "counter: 36\n",
            "counter: 37\n",
            "counter: 38\n",
            "counter: 39\n",
            "counter: 40\n",
            "counter: 41\n",
            "counter: 42\n",
            "counter: 43\n",
            "counter: 44\n",
            "counter: 45\n",
            "counter: 46\n",
            "counter: 47\n",
            "counter: 48\n",
            "counter: 49\n",
            "counter: 50\n",
            "counter: 51\n",
            "counter: 52\n",
            "counter: 53\n",
            "counter: 54\n",
            "counter: 55\n",
            "counter: 56\n",
            "counter: 57\n",
            "counter: 58\n",
            "counter: 59\n",
            "counter: 60\n",
            "counter: 61\n",
            "counter: 62\n",
            "counter: 63\n",
            "counter: 64\n",
            "counter: 65\n",
            "counter: 66\n",
            "counter: 67\n",
            "counter: 68\n",
            "counter: 69\n",
            "counter: 70\n",
            "counter: 71\n",
            "counter: 72\n",
            "counter: 73\n",
            "counter: 74\n",
            "counter: 75\n",
            "counter: 76\n",
            "counter: 77\n",
            "counter: 78\n",
            "counter: 79\n",
            "counter: 80\n",
            "counter: 81\n",
            "counter: 82\n",
            "counter: 83\n",
            "counter: 84\n",
            "counter: 85\n",
            "counter: 86\n",
            "counter: 87\n",
            "counter: 88\n",
            "counter: 89\n",
            "counter: 90\n",
            "counter: 91\n",
            "counter: 92\n",
            "counter: 93\n",
            "counter: 94\n",
            "counter: 95\n",
            "counter: 96\n",
            "counter: 97\n",
            "counter: 98\n",
            "counter: 99\n"
          ],
          "name": "stdout"
        },
        {
          "output_type": "execute_result",
          "data": {
            "text/plain": [
              "<matplotlib.collections.PathCollection at 0x7f2222ea45c0>"
            ]
          },
          "metadata": {
            "tags": []
          },
          "execution_count": 42
        },
        {
          "output_type": "display_data",
          "data": {
            "image/png": "[encoded data removed]",
            "text/plain": [
              "<Figure size 432x288 with 1 Axes>"
            ]
          },
          "metadata": {
            "tags": [],
            "needs_background": "light"
          }
        }
      ]
    },
    {
      "cell_type": "code",
      "metadata": {
        "id": "sSOGXlAhMWVF"
      },
      "source": [
        ""
      ],
      "execution_count": null,
      "outputs": []
    },
    {
      "cell_type": "markdown",
      "metadata": {
        "id": "vJ1mK2yNNsoO"
      },
      "source": [
        "### Reminging Cells takes longer time and I need to optimize it."
      ]
    },
    {
      "cell_type": "code",
      "metadata": {
        "collapsed": true,
        "id": "vwwcfp-Z58go",
        "colab": {
          "base_uri": "https://localhost:8080/"
        },
        "outputId": "2a133cf7-06d1-4d14-d7b3-0a1aa2873bf1"
      },
      "source": [
        "q = 3\n",
        "rnk_ , m1_, m2_, m3_= myFCM(data, q)\n",
        "\n",
        "plt.scatter(data[:, 0],data[:, 1], color = list(map(lambda x: {0:'r', 1: 'g', 2: 'y'}.get(x), rnk_)))\n",
        "plt.scatter([m1_[0], m2_[0],m3_[0]],[m1_[1], m2_[1], m3_[1]], marker = 'D', c = 'black')"
      ],
      "execution_count": null,
      "outputs": [
        {
          "output_type": "stream",
          "text": [
            "counter: 0\n",
            "counter: 1\n",
            "counter: 2\n",
            "counter: 3\n",
            "counter: 4\n",
            "counter: 5\n",
            "counter: 6\n",
            "counter: 7\n",
            "counter: 8\n",
            "counter: 9\n",
            "counter: 10\n",
            "counter: 11\n",
            "counter: 12\n",
            "counter: 13\n",
            "counter: 14\n",
            "counter: 15\n",
            "counter: 16\n",
            "counter: 17\n",
            "counter: 18\n",
            "counter: 19\n",
            "counter: 20\n",
            "counter: 21\n",
            "counter: 22\n",
            "counter: 23\n",
            "counter: 24\n"
          ],
          "name": "stdout"
        }
      ]
    },
    {
      "cell_type": "code",
      "metadata": {
        "collapsed": true,
        "id": "SBqkXefW58g-"
      },
      "source": [
        "\n",
        "q = 4\n",
        "rnk_ , m1_, m2_, m3_= myFCM(data, q)\n",
        "\n",
        "plt.scatter(data[:, 0],data[:, 1], color = list(map(lambda x: {0:'r', 1: 'g', 2: 'y'}.get(x), rnk_)))\n",
        "plt.scatter([m1_[0], m2_[0],m3_[0]],[m1_[1], m2_[1], m3_[1]], marker = 'D', c = 'black')"
      ],
      "execution_count": null,
      "outputs": []
    },
    {
      "cell_type": "code",
      "metadata": {
        "collapsed": true,
        "id": "z3A1Z2LY58hC"
      },
      "source": [
        "q = 5\n",
        "rnk_ , m1_, m2_, m3_= myFCM(data, q)\n",
        "\n",
        "plt.scatter(data[:, 0],data[:, 1], color = list(map(lambda x: {0:'r', 1: 'g', 2: 'y'}.get(x), rnk_)))\n",
        "plt.scatter([m1_[0], m2_[0],m3_[0]],[m1_[1], m2_[1], m3_[1]], marker = 'D', c = 'black')"
      ],
      "execution_count": null,
      "outputs": []
    },
    {
      "cell_type": "code",
      "metadata": {
        "collapsed": true,
        "id": "oM_zCa_W58hD"
      },
      "source": [
        ""
      ],
      "execution_count": null,
      "outputs": []
    }
  ]
}