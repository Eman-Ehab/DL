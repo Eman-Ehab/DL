{
  "nbformat": 4,
  "nbformat_minor": 0,
  "metadata": {
    "colab": {
      "name": "K Means.ipynb",
      "provenance": []
    },
    "kernelspec": {
      "display_name": "Python 3",
      "language": "python",
      "name": "python3"
    },
    "language_info": {
      "codemirror_mode": {
        "name": "ipython",
        "version": 3
      },
      "file_extension": ".py",
      "mimetype": "text/x-python",
      "name": "python",
      "nbconvert_exporter": "python",
      "pygments_lexer": "ipython3",
      "version": "3.6.2"
    }
  },
  "cells": [
    {
      "cell_type": "markdown",
      "metadata": {
        "id": "5YMCqQCU6AXe"
      },
      "source": [
        "# <center><font color=blue>K-means Clustering </font>"
      ]
    },
    {
      "cell_type": "markdown",
      "metadata": {
        "id": "CaVtNPVI6AXe"
      },
      "source": [
        "<font size=4>Using the data provided in the file “Data.txt” with K = 3, apply K-means algorithm. Each row in the file corresponds to one data point. <br>\n",
        "One important aspect of K-means that changes the results significantly is the initialization.\n",
        "So you should run the K-means algorithm with the given initialization below above 100 times. The final output of the K-means clustering is the result that gives the minimum average distance between the points and the centers of their corresponding clusters.<br>\n",
        "One possible startegy for intialization cluster centers  is to select the furthest points from each other.\n",
        "</font>\n"
      ]
    },
    {
      "cell_type": "markdown",
      "metadata": {
        "id": "tprleU2R6AXg"
      },
      "source": [
        "# <center><font color=blue>Solution </font>"
      ]
    },
    {
      "cell_type": "markdown",
      "metadata": {
        "id": "-2EpOzdq6AXh"
      },
      "source": [
        "<font color=blue size=4>1-Needed Packages"
      ]
    },
    {
      "cell_type": "code",
      "metadata": {
        "collapsed": true,
        "id": "MWYRbGmD6AXh"
      },
      "source": [
        "import numpy as np\n",
        "import matplotlib.pylab as plt"
      ],
      "execution_count": null,
      "outputs": []
    },
    {
      "cell_type": "markdown",
      "metadata": {
        "id": "rcmXiIWH6AXk"
      },
      "source": [
        "<font color=blue size=4>2-Load Data"
      ]
    },
    {
      "cell_type": "code",
      "metadata": {
        "collapsed": true,
        "id": "BT96k2zf6AXl"
      },
      "source": [
        "def RandomSelect(data):\n",
        "    \"\"\"\n",
        "    This Function should implement step 1 in slide 6, Lec 6\n",
        "    Input: Dataset\n",
        "    Output: 3-means\n",
        "    \"\"\"\n",
        "    \n",
        "    #1. Choose First Center randomly \n",
        "    m1=data[np.random.randint(len(data))-1,:]\n",
        "    dist=(np.sum((data-m1)**2,axis=1))**0.5\n",
        "    #2. select the second one \n",
        "    m2=data[np.argmax(dist),:]\n",
        "    #3. select the third one \n",
        "    dist[np.argmax(dist)]=0\n",
        "    m3=data[np.argmax(dist),:]\n",
        "   \n",
        "    \n",
        "    \n",
        "    \n",
        "    return m1,m2,m3 "
      ],
      "execution_count": null,
      "outputs": []
    },
    {
      "cell_type": "code",
      "metadata": {
        "id": "harfOh8V_bF2"
      },
      "source": [
        "def Membership_fcm(data,m1,m2,m3, q):\n",
        "    \"\"\"\n",
        "    This function should implement step 2 in slide 15, Lec 6\n",
        "    Possible values for rnk will be any value between [0,1] \n",
        "    Input: Dataset, 3-means, memership matrix, and the fuzziness Index\n",
        "    Return: New membership matrix with shape (len(data), 3)\n",
        "    ** hint: the distace between the cluster mean point and itself is zero,\n",
        "        it will result NANs and INFs in the rnk equation, \n",
        "        you can add epsilon to the distaces in you rnk computaions\n",
        "    \"\"\"\n",
        "    rnk = np.zeros((len(data),3))\n",
        "    rnk_final = np.zeros((len(data),3))\n",
        "    d = 3\n",
        "    for i in range(len(data)):\n",
        "        denoSumTest = 0\n",
        "        dist1 = distance.euclidean(data[i,:],m1)\n",
        "        dist2 = distance.euclidean(data[i,:],m2)\n",
        "        dist3 = distance.euclidean(data[i,:],m3)\n",
        "        if dist1 == 0 :\n",
        "            dist1 += ep\n",
        "        elif dist2 == 0:\n",
        "            dist2 += ep\n",
        "        elif dist3 == 0:\n",
        "            dist3 += ep\n",
        "\n",
        "\n",
        "            \n",
        "        denoSumTest += np.power(1/dist1,1 / (q-1))\n",
        "        denoSumTest += np.power(1/dist2,1 / (q-1))\n",
        "        denoSumTest += np.power(1/dist3,1 / (q-1))\n",
        "\n",
        "\n",
        "\n",
        "        w1 = np.power((1 / dist1), 1 / (q - 1)) / denoSumTest\n",
        "        w2 = np.power((1 / dist2), 1 / (q - 1)) / denoSumTest\n",
        "        w3 = np.power((1 / dist3), 1 / (q - 1)) / denoSumTest\n",
        "        \n",
        "        rnk[i][0] = w1\n",
        "        rnk[i][1] = w2\n",
        "        rnk[i][2] = w3\n",
        "    assert rnk.shape == (len(data), 3)\n",
        "\n",
        "    return rnk"
      ],
      "execution_count": null,
      "outputs": []
    },
    {
      "cell_type": "code",
      "metadata": {
        "colab": {
          "base_uri": "https://localhost:8080/"
        },
        "id": "tpDQpi5GGv7K",
        "outputId": "32659f70-9540-47ea-800f-a3bd5442e081"
      },
      "source": [
        "sum([1, 2, 3]+[1, 8, 9])"
      ],
      "execution_count": null,
      "outputs": [
        {
          "output_type": "execute_result",
          "data": {
            "text/plain": [
              "24"
            ]
          },
          "metadata": {
            "tags": []
          },
          "execution_count": 2
        }
      ]
    },
    {
      "cell_type": "code",
      "metadata": {
        "collapsed": true,
        "id": "prNlROY46AXn"
      },
      "source": [
        "def MemberShip(data,m1,m2,m3):\n",
        "    \"\"\"\n",
        "    This function should implement step 2 in slide 6, Lec 6\n",
        "    Possible values for rnk will be 0 or one ore Two\n",
        "    Input: Dataset, 3-means, and memership vector\n",
        "    Output: New membership vector\n",
        "    \"\"\"\n",
        "    rnk=np.zeros(len(data)) # Membership Vector\n",
        "    for i in range(len(data)):\n",
        "        dist1=np.sqrt(np.sum((data[i,:]-m1)**2))\n",
        "        dist2=np.sqrt(np.sum((data[i,:]-m2)**2))\n",
        "        dist3=np.sqrt(np.sum((data[i,:]-m3)**2))\n",
        "        if dist1 < dist2 and dist1<dist3:\n",
        "            rnk[i]=0\n",
        "            \n",
        "        elif dist2 < dist1 and dist2<dist3:\n",
        "            rnk[i]=1\n",
        "           \n",
        "        elif dist3 < dist1 and dist3 < dist2:\n",
        "            rnk[i]=2\n",
        "            \n",
        "    return rnk\n"
      ],
      "execution_count": null,
      "outputs": []
    },
    {
      "cell_type": "code",
      "metadata": {
        "id": "HPgmA_XcUIOe"
      },
      "source": [
        ""
      ],
      "execution_count": null,
      "outputs": []
    },
    {
      "cell_type": "code",
      "metadata": {
        "collapsed": true,
        "id": "mGngOctm6AXq"
      },
      "source": [
        "def updatemeans(data,rnk):\n",
        "    \"\"\"\n",
        "    This function should implement step 3 in slide 6, Lec 6\n",
        "    \n",
        "    Input: Dataset and memership vector\n",
        "    Output:updated 3-means\n",
        "    \"\"\"\n",
        "    m1=np.sum(data[np.where(rnk==0)],axis=0)/len(data[np.where(rnk==0)]) \n",
        "    m2=np.sum(data[np.where(rnk==1)],axis=0)/len(data[np.where(rnk==1)])   \n",
        "    m3=np.sum(data[np.where(rnk==2)],axis=0)/len(data[np.where(rnk==2)])  \n",
        "    return m1,m2,m3\n"
      ],
      "execution_count": null,
      "outputs": []
    },
    {
      "cell_type": "code",
      "metadata": {
        "colab": {
          "base_uri": "https://localhost:8080/"
        },
        "id": "eGaxI5dhPOFi",
        "outputId": "b38ef787-6929-4b0f-98ff-c12eb0750c6e"
      },
      "source": [
        "m1 = 10\n",
        "data = np.array([[1, 2, 3], [4, 5, 6]], np.int32)\n",
        "rnk = np.array([[.1, .2, .3], [.4, .5, .6]], np.int32)\n",
        "d1 = np.power(rnk[:, 0], 3) * np.sqrt((data-m1)**2).T\n",
        "d1"
      ],
      "execution_count": null,
      "outputs": [
        {
          "output_type": "execute_result",
          "data": {
            "text/plain": [
              "array([[0., 0.],\n",
              "       [0., 0.],\n",
              "       [0., 0.]])"
            ]
          },
          "metadata": {
            "tags": []
          },
          "execution_count": 22
        }
      ]
    },
    {
      "cell_type": "code",
      "metadata": {
        "colab": {
          "base_uri": "https://localhost:8080/"
        },
        "id": "JIN0D2FxUd-Y",
        "outputId": "08226b1d-2987-443b-ea00-4b0f2d460587"
      },
      "source": [
        "np.sqrt((data-m1)**2)"
      ],
      "execution_count": null,
      "outputs": [
        {
          "output_type": "execute_result",
          "data": {
            "text/plain": [
              "array([[9., 8., 7.],\n",
              "       [6., 5., 4.]])"
            ]
          },
          "metadata": {
            "tags": []
          },
          "execution_count": 19
        }
      ]
    },
    {
      "cell_type": "code",
      "metadata": {
        "colab": {
          "base_uri": "https://localhost:8080/"
        },
        "id": "ZSR6tpElUZX2",
        "outputId": "a8761040-bbd3-4a8e-ceab-1afcd8c754fe"
      },
      "source": [
        "np.power(rnk[:, 0], 3)"
      ],
      "execution_count": null,
      "outputs": [
        {
          "output_type": "execute_result",
          "data": {
            "text/plain": [
              "array([0, 0], dtype=int32)"
            ]
          },
          "metadata": {
            "tags": []
          },
          "execution_count": 16
        }
      ]
    },
    {
      "cell_type": "code",
      "metadata": {
        "collapsed": true,
        "id": "4BtO_OCD6AXs"
      },
      "source": [
        "def Cost_Function(data,rnk,m1,m2,m3):\n",
        "    \"\"\"\n",
        "    This function should implement  objective Function in slide 5,Lec 6\n",
        "    \n",
        "    Input: Dataset, memership vector, and 3-means\n",
        "    Output:Total Average Distance\n",
        "    \"\"\"\n",
        "    mindis1=[]\n",
        "    mindis2=[]\n",
        "    mindis3=[]\n",
        "    for i in range(len(data)):\n",
        "        if rnk[i]==0 :\n",
        "            dist1=np.sqrt(np.sum((data[i,:]-m1)**2))\n",
        "            mindis1.append(dist1)\n",
        "        elif rnk[i]==1:\n",
        "            dist2=np.sqrt(np.sum((data[i,:]-m2)**2))\n",
        "            mindis2.append(dist2)\n",
        "        else:\n",
        "            dist3=np.sqrt(np.sum((data[i,:]-m3)**2))\n",
        "            mindis3.append(dist3)\n",
        "    Avgdistf=sum(mindis1+mindis2+mindis3)        \n",
        "    \n",
        "    return Avgdistf\n",
        "\n"
      ],
      "execution_count": null,
      "outputs": []
    },
    {
      "cell_type": "code",
      "metadata": {
        "colab": {
          "base_uri": "https://localhost:8080/"
        },
        "id": "vQPAfklZLu1K",
        "outputId": "4b6a6bfa-d378-4fa9-b7c5-4664d15fdfc3"
      },
      "source": [
        "def StoppingCriteria(m1_b,m2_b,m3_b,m1,m2,m3):\n",
        "    \"\"\"\n",
        "    This function should Test Convergence\n",
        "    \n",
        "    Input:  3-means before updating and after it.\n",
        "    Output: return True or  return False\n",
        "    \"\"\"\n",
        "    m1_b,m2_b,m3_b = np.round(m1_b, 5), np.round(m2_b, 5), np.round(m3_b, 5)\n",
        "    if (np.array_equal(m1,m1_b))  and (np.array_equal(m2,m2_b)) and (np.array_equal(m3,m3_b)):\n",
        "        return True\n",
        "    else:\n",
        "        return False\n",
        "    \n",
        "    \n",
        "\n",
        "        "
      ],
      "execution_count": null,
      "outputs": [
        {
          "output_type": "stream",
          "text": [
            "Object `np.round` not found.\n"
          ],
          "name": "stdout"
        }
      ]
    },
    {
      "cell_type": "code",
      "metadata": {
        "collapsed": true,
        "id": "Im2dbAJP6AXu"
      },
      "source": [
        "def StoppingCriteria(m1_b,m2_b,m3_b,m1,m2,m3):\n",
        "    \"\"\"\n",
        "    This function should Test Convergence\n",
        "    \n",
        "    Input:  3-means before updating and after it.\n",
        "    Output: return True or  return False\n",
        "    \"\"\"\n",
        "    if (np.array_equal(m1,m1_b))  and (np.array_equal(m2,m2_b)) and (np.array_equal(m3,m3_b)):\n",
        "        return True\n",
        "    else:\n",
        "        return False\n",
        "    \n",
        "    \n",
        "\n",
        "        "
      ],
      "execution_count": null,
      "outputs": []
    },
    {
      "cell_type": "code",
      "metadata": {
        "collapsed": true,
        "id": "1FcbR0dX6AXx"
      },
      "source": [
        "#________________________Main Code Statrs here___________________________________\n",
        "\n",
        "data=np.loadtxt(\"Data.txt\") # Load Data\n",
        "    \n",
        "counter=0\n",
        "m1f,m2f,m3f=np.zeros((2,100)),np.zeros((2,100)),np.zeros((2,100)) # 3 - Means \n",
        "Avgdist=np.zeros((100,))\n",
        "while(counter <100):\n",
        "        # --------------------Intialization Step 1------------------------------#\n",
        "        m1,m2,m3= RandomSelect(data)\n",
        "        \n",
        "      \n",
        "        \n",
        "        m1_b=m1\n",
        "        m2_b=m2\n",
        "        m3_b=m3\n",
        "        while(True):\n",
        "            #---------------Step 2 compute rnk-----------------------------------------#\n",
        "            \n",
        "            rnk=MemberShip(data,m1,m2,m3)\n",
        "            #---------------Step 3 update means-----------------------------------------#\n",
        "            \n",
        "            m1,m2,m3=updatemeans(data,rnk)\n",
        "            #---------------Step 4 Test Convergence -----------------------------------------#\n",
        "                \n",
        "            if StoppingCriteria(m1_b,m2_b,m3_b,m1,m2,m3):\n",
        "                m1f[:,counter],m2f[:,counter],m3f[:,counter]=m1,m2,m3\n",
        "                \n",
        "                Avgdist[counter]=Cost_Function(data,rnk,m1,m2,m3)\n",
        "                break\n",
        "                \n",
        "              \n",
        "            m1_b=m1\n",
        "            m2_b=m2\n",
        "            m3_b=m3\n",
        "\n",
        "        counter+=1     \n",
        "\n",
        "        \n",
        "\n",
        "\n",
        "  \n",
        "    "
      ],
      "execution_count": null,
      "outputs": []
    },
    {
      "cell_type": "markdown",
      "metadata": {
        "id": "vqdgO3RE6AXz"
      },
      "source": [
        "# Plotting "
      ]
    },
    {
      "cell_type": "code",
      "metadata": {
        "id": "r1tFLWWm6AXz",
        "outputId": "63517c45-1030-48d2-9bdf-c4a6dc31a461"
      },
      "source": [
        "# Plotting the Final Centroids and data. \n",
        "#Don't forget you will use means or centroids that acheive minimum average distance\n",
        "\n",
        " \n",
        "m1p=m1f[:,np.argmin(Avgdist)]\n",
        "m2p=m2f[:,np.argmin(Avgdist)]\n",
        "m3p=m3f[:,np.argmin(Avgdist)]\n",
        "plt.scatter(data[:,0],data[:,1])\n",
        "plt.scatter(m1p[0], m1p[1])\n",
        "plt.scatter(m2p[0], m2p[1])\n",
        "plt.scatter(m3p[0], m3p[1])\n",
        "plt.show()"
      ],
      "execution_count": null,
      "outputs": [
        {
          "output_type": "display_data",
          "data": {
            "image/png": "[encoded data removed]",
            "text/plain": [
              "<matplotlib.figure.Figure at 0x1b86def27b8>"
            ]
          },
          "metadata": {
            "tags": []
          }
        }
      ]
    },
    {
      "cell_type": "code",
      "metadata": {
        "collapsed": true,
        "id": "2qsGR0zZ6AX2"
      },
      "source": [
        ""
      ],
      "execution_count": null,
      "outputs": []
    }
  ]
}